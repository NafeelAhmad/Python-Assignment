{
 "cells": [
  {
   "cell_type": "code",
   "execution_count": 3,
   "metadata": {},
   "outputs": [
    {
     "name": "stdout",
     "output_type": "stream",
     "text": [
      "Enter a number: 2900\n",
      "The multiliplication table of number is:\n",
      "2900 X 1 = 2900\n",
      "2900 X 2 = 5800\n",
      "2900 X 3 = 8700\n",
      "2900 X 4 = 11600\n",
      "2900 X 5 = 14500\n",
      "2900 X 6 = 17400\n",
      "2900 X 7 = 20300\n",
      "2900 X 8 = 23200\n",
      "2900 X 9 = 26100\n",
      "2900 X 10 = 29000\n"
     ]
    }
   ],
   "source": [
    "# (1) Function that input a number and print the multiplication of number \n",
    "\n",
    "Num = int(input('Enter a number: '))\n",
    "\n",
    "print('The multiliplication table of number is:')\n",
    "\n",
    "\n",
    "for i in range (1,11):\n",
    "    \n",
    "    print(Num,'X',i,'=',Num*i)"
   ]
  },
  {
   "cell_type": "code",
   "execution_count": 5,
   "metadata": {},
   "outputs": [
    {
     "name": "stdout",
     "output_type": "stream",
     "text": [
      "Enter Initial Number: 2\n",
      "Enter Final Number: 1000\n",
      "Twin prime numbers are \n",
      "3 5\n",
      "5 7\n",
      "11 13\n",
      "17 19\n",
      "29 31\n",
      "41 43\n",
      "59 61\n",
      "71 73\n",
      "101 103\n",
      "107 109\n",
      "137 139\n",
      "149 151\n",
      "179 181\n",
      "191 193\n",
      "197 199\n",
      "227 229\n",
      "239 241\n",
      "269 271\n",
      "281 283\n",
      "311 313\n",
      "347 349\n",
      "419 421\n",
      "431 433\n",
      "461 463\n",
      "521 523\n",
      "569 571\n",
      "599 601\n",
      "617 619\n",
      "641 643\n",
      "659 661\n",
      "809 811\n",
      "821 823\n",
      "827 829\n",
      "857 859\n",
      "881 883\n"
     ]
    }
   ],
   "source": [
    "# (2) Program to print Twin Prime less than 1000.\n",
    "\n",
    "def prime(n):\n",
    "    \n",
    "    for i in range(2,n):                                            \n",
    "        \n",
    "        if n%i ==0 :  \n",
    "            return False\n",
    "    return True\n",
    "        \n",
    "NUM_1 = int(input('Enter Initial Number: '))\n",
    "\n",
    "NUM_2 = int(input('Enter Final Number: ')) # Here, Final number must be 1000 as per question\n",
    "\n",
    "print('Twin prime numbers are ')\n",
    "\n",
    "for i in range(NUM_1 , NUM_2 + 1):\n",
    "   \n",
    "    if prime(i) and prime(i+2):\n",
    "    \n",
    "        print(i,i+2)\n",
    "            \n",
    "            "
   ]
  },
  {
   "cell_type": "code",
   "execution_count": 6,
   "metadata": {
    "scrolled": true
   },
   "outputs": [
    {
     "name": "stdout",
     "output_type": "stream",
     "text": [
      "Enter a number: 20\n",
      "The Factors of Required Number are: \n",
      "1\n",
      "2\n",
      "4\n",
      "5\n",
      "10\n",
      "20\n"
     ]
    }
   ],
   "source": [
    "# (3) Program to find the prime factor of a number\n",
    "\n",
    "num = int(input('Enter a number: '))                                    \n",
    "\n",
    "print('The Factors of Required Number are: ')\n",
    "for i in range (1,num+1):\n",
    "        \n",
    "    if num % i == 0 :\n",
    "            \n",
    "        print(i)"
   ]
  },
  {
   "cell_type": "code",
   "execution_count": 4,
   "metadata": {},
   "outputs": [
    {
     "name": "stdout",
     "output_type": "stream",
     "text": [
      "1 2\n",
      "1 3\n",
      "1 4\n",
      "2 1\n",
      "2 3\n",
      "2 4\n",
      "3 1\n",
      "3 2\n",
      "3 4\n",
      "4 1\n",
      "4 2\n",
      "4 3\n"
     ]
    }
   ],
   "source": [
    "# (4) a)  Program to implement formulae of Permutation and Combination.\n",
    "\n",
    "# Permutations with certain number of elements\n",
    "\n",
    "import itertools\n",
    "\n",
    "values = [1,2,3,4]\n",
    "\n",
    "perm = itertools.permutations(values,2)\n",
    "\n",
    "for val in perm:\n",
    "    print(*val)\n",
    "\n"
   ]
  },
  {
   "cell_type": "code",
   "execution_count": 5,
   "metadata": {
    "scrolled": true
   },
   "outputs": [
    {
     "name": "stdout",
     "output_type": "stream",
     "text": [
      "3 4\n",
      "3 5\n",
      "3 6\n",
      "4 5\n",
      "4 6\n",
      "5 6\n"
     ]
    }
   ],
   "source": [
    "# (4) b)  Program to implement formulae of Permutation and Combination.\n",
    "\n",
    "# Combinations with certain set of numbers\n",
    "\n",
    "import itertools\n",
    "\n",
    "values=[3,4,5,6]\n",
    "\n",
    "comb = itertools.combinations(values,2)\n",
    "\n",
    "for val in comb:\n",
    "    print(*val)"
   ]
  },
  {
   "cell_type": "code",
   "execution_count": 2,
   "metadata": {},
   "outputs": [
    {
     "name": "stdout",
     "output_type": "stream",
     "text": [
      "Enter a number: 678\n",
      "0b1010100110\n"
     ]
    }
   ],
   "source": [
    "# (5) function that converts a decimal number to binary number\n",
    "\n",
    "num = int(input('Enter a number: '))\n",
    "\n",
    "num1 = num\n",
    "print(bin(num1))"
   ]
  },
  {
   "cell_type": "code",
   "execution_count": 8,
   "metadata": {},
   "outputs": [
    {
     "name": "stdout",
     "output_type": "stream",
     "text": [
      "Enter a num : 407\n",
      "It is an armstrong number.\n"
     ]
    }
   ],
   "source": [
    "# (6) Function to print an armstrong number.\n",
    "\n",
    "''' An Armstrong number also called Narcissistic number,\n",
    " is a number that is equal to the sum of the cube of its own digits.'''\n",
    "n = int(input(\"Enter a num : \"))    \n",
    "org = n\n",
    "s = 0\n",
    "while n>0 :\n",
    "    r = n % 10\n",
    "    s = s + (r**3)\n",
    "    n = n//10\n",
    "if org == s :\n",
    "    print('It is an armstrong number.')    \n",
    "else :\n",
    "    print ('It is not an Armstrong number.')"
   ]
  },
  {
   "cell_type": "code",
   "execution_count": 19,
   "metadata": {},
   "outputs": [
    {
     "name": "stdout",
     "output_type": "stream",
     "text": [
      "Enter a number: 56\n",
      "product of num is = 30\n"
     ]
    }
   ],
   "source": [
    "\n",
    "def prodDigits(num):\n",
    "    prod = 1\n",
    "    while (num > 0):\n",
    "        rem = num % 10\n",
    "        prod = prod * rem\n",
    "        num = num // 10\n",
    "    return prod\n",
    "\n",
    "num = int(input(\"Enter a number: \"))\n",
    "\n",
    "print(prodDigits(num))"
   ]
  },
  {
   "cell_type": "code",
   "execution_count": 5,
   "metadata": {},
   "outputs": [
    {
     "name": "stdout",
     "output_type": "stream",
     "text": [
      "Enter any number: 456\n",
      "Multiplicative Persistance: 2\n",
      "Multiplicative Digital Root: 0\n"
     ]
    }
   ],
   "source": [
    "# (8)Write Multiplicative Digital Root & Multiplicative Persistance of n\n",
    "\n",
    "def prodDigits(num):\n",
    "    temp=num\n",
    "    c=0\n",
    "    while 1:\n",
    "        p=1\n",
    "        c=c+1\n",
    "        while temp!=0:\n",
    "            rem=temp%10\n",
    "            p=p*rem\n",
    "            temp=int(temp/10)\n",
    "        if p<10:\n",
    "            print(\"Multiplicative Persistance:\",c)\n",
    "            print(\"Multiplicative Digital Root:\",p)\n",
    "            break\n",
    "        temp=p\n",
    "num=int(input(\"Enter any number: \"))\n",
    "prodDigits(num)"
   ]
  },
  {
   "cell_type": "code",
   "execution_count": 4,
   "metadata": {},
   "outputs": [
    {
     "name": "stdout",
     "output_type": "stream",
     "text": [
      "Enter a number: 65\n",
      "Sum of proper divisor of a number is 19\n"
     ]
    }
   ],
   "source": [
    "#..(9) Function that finds the sum of proper divisors of a number.\n",
    "\n",
    "def sumPdivisors(a):                           \n",
    "    i=1\n",
    "    sum=0\n",
    "    for i in range(1,a):\n",
    "        if a%i==0:\n",
    "            sum=sum+i\n",
    "            i+=1\n",
    "    return sum\n",
    "a= int(input('Enter a number: '))\n",
    "print(\"Sum of proper divisor of a number is\",sumPdivisors(a))"
   ]
  },
  {
   "cell_type": "code",
   "execution_count": 16,
   "metadata": {},
   "outputs": [
    {
     "name": "stdout",
     "output_type": "stream",
     "text": [
      "Enter the lower number: 02\n",
      "Enter the upper limit: 100\n",
      "6\n",
      "28\n"
     ]
    }
   ],
   "source": [
    "# (10) print all the perfect number in a given range\n",
    "\n",
    "lower = int(input('Enter the lower number: '))\n",
    "upper = int(input('Enter the upper limit: '))\n",
    "\n",
    "for num in range(lower,upper + 1):\n",
    "    \n",
    "    result = 0\n",
    "    \n",
    "    for i in range(1,num):\n",
    "        \n",
    "        if (num%i)==0:\n",
    "            \n",
    "            result= result+i\n",
    "\n",
    "    if num == result:\n",
    "        print(num)"
   ]
  },
  {
   "cell_type": "code",
   "execution_count": 28,
   "metadata": {},
   "outputs": [
    {
     "name": "stdout",
     "output_type": "stream",
     "text": [
      "Enter First Number: 2\n",
      "Enter Second Number: 100\n",
      "2  and  100 are not Amicable Number\n"
     ]
    }
   ],
   "source": [
    "# (11) function to pairs of Amicable numbers in a range\n",
    "\n",
    "a = int(input('Enter First Number: '))\n",
    "\n",
    "b = int(input('Enter Second Number: '))\n",
    "\n",
    "sum =0\n",
    "sum1 =0                                                  \n",
    "for i in range(a,b+1):\n",
    "    for i in range(1,int(a/2)+1):\n",
    "        if(a%i ==0):\n",
    "            sum = sum +i\n",
    "    \n",
    "    for i in range(1, int(b/2)+1):\n",
    "    \n",
    "        if(b%i == 0):\n",
    "             sum1 = sum1 +i\n",
    "        \n",
    "if (sum==b and sum1==a):\n",
    "    \n",
    "    print(a,' and',b,'are amicable Number')\n",
    "    \n",
    "else:\n",
    "    \n",
    "    print(a, ' and ', b, 'are not Amicable Number')    "
   ]
  },
  {
   "cell_type": "code",
   "execution_count": 18,
   "metadata": {},
   "outputs": [
    {
     "name": "stdout",
     "output_type": "stream",
     "text": [
      "[1, 2, 3, 4, 5, 6, 7, 8, 9, 10, 11, 12, 13, 14, 15, 16, 17, 18, 19, 20, 21, 22, 23, 24, 25, 26, 27, 28, 29, 30, 31, 32, 33, 34, 35, 36, 37, 38, 39, 40, 41, 42, 43, 44, 45, 46, 47, 48, 49, 50, 51, 52, 53, 54, 55, 56, 57, 58, 59, 60, 61, 62, 63, 64, 65, 66, 67, 68, 69, 70, 71, 72, 73, 74, 75, 76, 77, 78, 79, 80, 81, 82, 83, 84, 85, 86, 87, 88, 89, 90, 91, 92, 93, 94, 95, 96, 97, 98, 99]\n",
      "[1, 3, 5, 7, 9, 11, 13, 15, 17, 19, 21, 23, 25, 27, 29, 31, 33, 35, 37, 39, 41, 43, 45, 47, 49, 51, 53, 55, 57, 59, 61, 63, 65, 67, 69, 71, 73, 75, 77, 79, 81, 83, 85, 87, 89, 91, 93, 95, 97, 99]\n"
     ]
    }
   ],
   "source": [
    "# (12) program which can filter odd numbers in a list by using filter function\n",
    "\n",
    "def odd_num(x):\n",
    "    \n",
    "    '''\n",
    "    This function give odd numbers from a list\n",
    "    '''\n",
    "    \n",
    "    if x % 2 !=0 :\n",
    "        \n",
    "        return x\n",
    "    \n",
    "number_list = range(1,100)\n",
    "\n",
    "print(list(number_list))\n",
    "\n",
    "odd_num_list = list(filter(odd_num,number_list))\n",
    "\n",
    "print(odd_num_list)"
   ]
  },
  {
   "cell_type": "code",
   "execution_count": 19,
   "metadata": {},
   "outputs": [
    {
     "name": "stdout",
     "output_type": "stream",
     "text": [
      "[1, 8, 27, 64, 125, 216, 343, 512, 729, 1000, 1331, 1728, 2197, 2744]\n"
     ]
    }
   ],
   "source": [
    "# (13) Program which can map() to make a list whose elements are cube of elements in a given list\n",
    "\n",
    "numbers = range(1,15)\n",
    "\n",
    "def power_of_Three(num):\n",
    "    \n",
    "    return num**3\n",
    "\n",
    "cube = list(map(power_of_Three, numbers))\n",
    "\n",
    "print(cube)"
   ]
  },
  {
   "cell_type": "code",
   "execution_count": 20,
   "metadata": {},
   "outputs": [
    {
     "name": "stdout",
     "output_type": "stream",
     "text": [
      "[2, 3, 4, 5, 6, 7, 8, 9, 10, 11, 12, 13, 14, 15, 16, 17, 18, 19]\n",
      "[2, 4, 6, 8, 10, 12, 14, 16, 18]\n",
      "[8, 64, 216, 512, 1000, 1728, 2744, 4096, 5832]\n"
     ]
    }
   ],
   "source": [
    "# (14) Write a program which can map() and filter() to make a list whose elements are cube of even number in a given list\n",
    "\n",
    "def power_cube(num):\n",
    "    \n",
    "    return num**3\n",
    "\n",
    "numbers = range(2,20)\n",
    "\n",
    "print (list(numbers))\n",
    "\n",
    "def even_number(nums):\n",
    "    \n",
    "    if nums % 2 == 0:\n",
    "    \n",
    "        return nums\n",
    "\n",
    "even_numb= list(filter(even_number,numbers))\n",
    "\n",
    "print(even_numb)\n",
    "\n",
    "cube = list(map(power_cube, even_numb))\n",
    "\n",
    "print(cube)"
   ]
  }
 ],
 "metadata": {
  "kernelspec": {
   "display_name": "Python 3",
   "language": "python",
   "name": "python3"
  },
  "language_info": {
   "codemirror_mode": {
    "name": "ipython",
    "version": 3
   },
   "file_extension": ".py",
   "mimetype": "text/x-python",
   "name": "python",
   "nbconvert_exporter": "python",
   "pygments_lexer": "ipython3",
   "version": "3.6.5"
  }
 },
 "nbformat": 4,
 "nbformat_minor": 2
}
